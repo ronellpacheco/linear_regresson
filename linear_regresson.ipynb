{
 "cells": [
  {
   "cell_type": "code",
   "execution_count": 1,
   "metadata": {},
   "outputs": [],
   "source": [
    "import pandas as pd\n",
    "import numpy as np\n",
    "from sklearn.model_selection import train_test_split\n",
    "from sklearn.linear_model import LinearRegression"
   ]
  },
  {
   "cell_type": "code",
   "execution_count": 5,
   "metadata": {},
   "outputs": [
    {
     "name": "stdout",
     "output_type": "stream",
     "text": [
      "0.7477224871562675\n",
      "coefficient:\n",
      " [ 0.14799933  0.97553493 -0.07669548 -0.35638023  0.03759117]\n",
      "intercept: \n",
      " -1.582331320221444\n",
      "6.335288873987685 [8 8 1 3 2] 10\n",
      "12.232156411563357 [14 12  1  0  3] 12\n",
      "3.530299420964359 [3 5 2 1 8] 5\n",
      "8.52881600211597 [8 9 2 0 8] 10\n",
      "8.07682836248705 [ 9  9  2  2 11] 9\n",
      "12.72222370294011 [12 13  2  0  0] 13\n",
      "18.71107596627823 [19 18  2  0  2] 18\n",
      "7.1016571268966135 [ 9  7  2  0 18] 6\n",
      "7.252551754538301 [8 8 2 0 0] 0\n",
      "12.64940670479894 [11 13  2  0  2] 14\n",
      "14.96929221360858 [14 15  2  0  0] 15\n",
      "6.277869005631595 [7 7 3 0 6] 7\n",
      "13.658654311112004 [12 14  3  0  1] 15\n",
      "11.675384931562945 [11 12  1  0  0] 10\n",
      "14.44248593532589 [15 14  2  0  8] 14\n",
      "7.771732069474615 [11  8  2  0  2] 8\n",
      "6.277016827473435 [8 7 2 0 0] 8\n",
      "10.69833685066921 [11 11  2  0  2] 11\n",
      "15.188595386190253 [16 15  3  0  0] 15\n",
      "8.370694370227765 [10  9  4  0  0] 0\n",
      "14.220817430757188 [14 14  1  0  4] 14\n",
      "16.13429611982282 [14 16  1  0  3] 16\n",
      "14.96929221360858 [14 15  2  0  0] 16\n",
      "5.08303090598506 [5 6 2 0 6] 6\n",
      "7.926696385419655 [7 9 4 0 0] 0\n",
      "19.916036369543598 [18 19  1  0 10] 19\n",
      "10.469763552626867 [11 11  4  0  0] 11\n",
      "9.203621608668032 [ 8 10  2  0  0] 12\n",
      "17.139665240319978 [16 17  3  0  0] 17\n",
      "10.770492873139668 [11 11  4  0  8] 10\n",
      "9.376866206450757 [ 8  9  1  1 38] 8\n",
      "7.251038600709432 [8 8 3 0 2] 10\n",
      "15.040596057920881 [15 15  3  0  0] 15\n",
      "12.872588363196511 [12 13  2  0  4] 13\n",
      "6.052322015246993 [7 7 3 0 0] 8\n",
      "4.276539880114145 [ 6  5  1  1 14] 5\n",
      "-1.7797899541916236 [4 0 1 2 0] 0\n",
      "15.119656873864981 [14 15  2  0  4] 15\n",
      "11.898566589960517 [12 12  1  0  2] 14\n",
      "7.822299356828308 [ 6  9  1  2 14] 8\n"
     ]
    }
   ],
   "source": [
    "data = pd.read_csv(\"student-mat.csv\", sep=\";\")\n",
    "\n",
    "data = data[['G1', 'G2', 'G3', 'studytime', 'failures', 'absences']]\n",
    "\n",
    "predict = 'G3'\n",
    "\n",
    "x = np.array(data.drop(predict, axis=1))\n",
    "y = np.array(data[predict])\n",
    "\n",
    "x_train, x_test, y_train, y_test = train_test_split(x, y, test_size=0.1, random_state=42)\n",
    "\n",
    "linear = LinearRegression()\n",
    "\n",
    "linear.fit(x_train, y_train)\n",
    "acc = linear.score(x_test, y_test)\n",
    "print(acc)\n",
    "\n",
    "print('coefficient:\\n', linear.coef_)\n",
    "print('intercept: \\n', linear.intercept_)\n",
    "\n",
    "predictions = linear.predict(x_test)\n",
    "\n",
    "for x in range(len(predictions)):\n",
    "    print(predictions[x], x_test[x], y_test[x])"
   ]
  },
  {
   "cell_type": "code",
   "execution_count": null,
   "metadata": {},
   "outputs": [],
   "source": []
  }
 ],
 "metadata": {
  "kernelspec": {
   "display_name": "gold-env",
   "language": "python",
   "name": "python3"
  },
  "language_info": {
   "codemirror_mode": {
    "name": "ipython",
    "version": 3
   },
   "file_extension": ".py",
   "mimetype": "text/x-python",
   "name": "python",
   "nbconvert_exporter": "python",
   "pygments_lexer": "ipython3",
   "version": "3.10.13"
  }
 },
 "nbformat": 4,
 "nbformat_minor": 2
}
